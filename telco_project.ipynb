{
 "cells": [
  {
   "cell_type": "markdown",
   "metadata": {},
   "source": [
    "# Telco Customer Churn Reduction"
   ]
  },
  {
   "cell_type": "markdown",
   "metadata": {},
   "source": [
    "# 1. Planning"
   ]
  },
  {
   "cell_type": "markdown",
   "metadata": {},
   "source": [
    "### Describe the project and goals."
   ]
  },
  {
   "cell_type": "markdown",
   "metadata": {},
   "source": [
    "<b>Objective/Goals:</b>\n",
    "- Find the drivers for customer churn at Telco.\n",
    "- Construct a machine learning (ML) classification model that accurately predicts customer churn.\n",
    "- Create repeateable process modules.\n",
    "- Document your process to be presented and read like a report.\n",
    "- Answer questions about your code, process, and findings."
   ]
  },
  {
   "cell_type": "markdown",
   "metadata": {},
   "source": [
    "### Task out how you will work through the pipeline."
   ]
  },
  {
   "cell_type": "markdown",
   "metadata": {},
   "source": [
    "<b>Data Science Pipeline:</b>\n",
    "1. Planning\n",
    "2. Acquisition\n",
    "3. Preparation\n",
    "4. Exploration\n",
    "5. Modeling \n",
    "6. Delivery "
   ]
  },
  {
   "cell_type": "markdown",
   "metadata": {},
   "source": [
    "### Incluce a data dictionary."
   ]
  },
  {
   "cell_type": "markdown",
   "metadata": {},
   "source": [
    "- customer_id                  \n",
    "- gender                        \n",
    "- senior_citizen             \n",
    "- partner                   \n",
    "- dependents               \n",
    "- phone_service\n",
    "- internet_service\t\n",
    "- contract_type\t\n",
    "- payment_type\t\n",
    "- monthly_charges\t\n",
    "- total_charges\t\n",
    "- churn\t\n",
    "- tenure\t\n",
    "- is_female\t\n",
    "- has_churned\t\n",
    "- has_phone\t\n",
    "- has_internet\t\n",
    "- has_phone_and_internet\n",
    "- partner_dependents\t\n",
    "- average_monthly_charges\n",
    "- contract_type\n",
    "- phone_type\t\n",
    "- internet_type\n",
    "- service_type"
   ]
  },
  {
   "cell_type": "markdown",
   "metadata": {},
   "source": [
    "### Clearly state your starting hypotheses."
   ]
  },
  {
   "cell_type": "markdown",
   "metadata": {},
   "source": [
    "- The largest source of churn is coming from month-to-month contracts because of increasing monthly charges.\n",
    "- Specifically, the phone and internet bundle customers are churning the most."
   ]
  },
  {
   "cell_type": "markdown",
   "metadata": {},
   "source": [
    "### Project Specifications"
   ]
  },
  {
   "cell_type": "markdown",
   "metadata": {},
   "source": [
    "- Why are our customers churning?\n",
    "- Are there clear groupings where a customer is more likely to churn?\n",
    "- What if you consider contract type? \n",
    "- Is there a tenure that month-to-month customers are most likely to churn? \n",
    "- Are there features that indicate a higher propensity to churn?\n",
    "- Is there a price threshold for specific services where the likelihood of churn increases once price for those services goes past that point?\n"
   ]
  },
  {
   "cell_type": "markdown",
   "metadata": {},
   "source": [
    "# 2. Acquisition"
   ]
  },
  {
   "cell_type": "markdown",
   "metadata": {},
   "source": [
    "- run acquire.py\n",
    "- summarize data (.info(), .describe(), .value_counts(), ...)\n",
    "- plot distributions of individual variables \n"
   ]
  },
  {
   "cell_type": "code",
   "execution_count": 2,
   "metadata": {},
   "outputs": [],
   "source": [
    "import acquire\n",
    "import prepare\n",
    "\n",
    "import pandas as pd\n",
    "import numpy as np\n",
    "import matplotlib.pyplot as plt \n",
    "import seaborn as sns\n",
    "\n",
    "from sklearn.tree import DecisionTreeClassifier\n",
    "from sklearn.ensemble import RandomForestClassifier\n",
    "from sklearn.neighbors import KNeighborsClassifier\n",
    "from sklearn.metrics import classification_report\n",
    "from sklearn.metrics import confusion_matrix"
   ]
  },
  {
   "cell_type": "code",
   "execution_count": 14,
   "metadata": {},
   "outputs": [],
   "source": [
    "df = acquire.get_telco_data()"
   ]
  },
  {
   "cell_type": "code",
   "execution_count": 15,
   "metadata": {},
   "outputs": [
    {
     "data": {
      "text/html": [
       "<div>\n",
       "<style scoped>\n",
       "    .dataframe tbody tr th:only-of-type {\n",
       "        vertical-align: middle;\n",
       "    }\n",
       "\n",
       "    .dataframe tbody tr th {\n",
       "        vertical-align: top;\n",
       "    }\n",
       "\n",
       "    .dataframe thead th {\n",
       "        text-align: right;\n",
       "    }\n",
       "</style>\n",
       "<table border=\"1\" class=\"dataframe\">\n",
       "  <thead>\n",
       "    <tr style=\"text-align: right;\">\n",
       "      <th></th>\n",
       "      <th>customer_id</th>\n",
       "      <th>gender</th>\n",
       "      <th>senior</th>\n",
       "      <th>partner</th>\n",
       "      <th>dependents</th>\n",
       "      <th>phone_service</th>\n",
       "      <th>internet_service</th>\n",
       "      <th>contract_type</th>\n",
       "      <th>payment_type</th>\n",
       "      <th>monthly_charges</th>\n",
       "      <th>...</th>\n",
       "      <th>has_internet</th>\n",
       "      <th>has_phone_and_internet</th>\n",
       "      <th>partner_dependents</th>\n",
       "      <th>Excel functions -&gt; Exercise3</th>\n",
       "      <th>average_monthly_charges</th>\n",
       "      <th>Excel functions -&gt; Exercise4</th>\n",
       "      <th>contract_type.1</th>\n",
       "      <th>phone_type</th>\n",
       "      <th>internet_type</th>\n",
       "      <th>service_type</th>\n",
       "    </tr>\n",
       "  </thead>\n",
       "  <tbody>\n",
       "    <tr>\n",
       "      <th>0</th>\n",
       "      <td>9995-HOTOH</td>\n",
       "      <td>Male</td>\n",
       "      <td>0</td>\n",
       "      <td>Yes</td>\n",
       "      <td>Yes</td>\n",
       "      <td>0</td>\n",
       "      <td>1</td>\n",
       "      <td>2</td>\n",
       "      <td>Electronic check</td>\n",
       "      <td>$59.00</td>\n",
       "      <td>...</td>\n",
       "      <td>True</td>\n",
       "      <td>False</td>\n",
       "      <td>3</td>\n",
       "      <td>20141117</td>\n",
       "      <td>$59.00</td>\n",
       "      <td>True</td>\n",
       "      <td>2 Year</td>\n",
       "      <td>No Phone Service</td>\n",
       "      <td>DSL</td>\n",
       "      <td>Internet Only</td>\n",
       "    </tr>\n",
       "    <tr>\n",
       "      <th>1</th>\n",
       "      <td>9993-LHIEB</td>\n",
       "      <td>Male</td>\n",
       "      <td>0</td>\n",
       "      <td>Yes</td>\n",
       "      <td>Yes</td>\n",
       "      <td>1</td>\n",
       "      <td>1</td>\n",
       "      <td>2</td>\n",
       "      <td>Mailed check</td>\n",
       "      <td>$67.85</td>\n",
       "      <td>...</td>\n",
       "      <td>True</td>\n",
       "      <td>True</td>\n",
       "      <td>3</td>\n",
       "      <td>20140607</td>\n",
       "      <td>$67.85</td>\n",
       "      <td>True</td>\n",
       "      <td>2 Year</td>\n",
       "      <td>One Line</td>\n",
       "      <td>DSL</td>\n",
       "      <td>Phone+Internet</td>\n",
       "    </tr>\n",
       "    <tr>\n",
       "      <th>2</th>\n",
       "      <td>9992-UJOEL</td>\n",
       "      <td>Male</td>\n",
       "      <td>0</td>\n",
       "      <td>No</td>\n",
       "      <td>No</td>\n",
       "      <td>1</td>\n",
       "      <td>1</td>\n",
       "      <td>0</td>\n",
       "      <td>Mailed check</td>\n",
       "      <td>$50.30</td>\n",
       "      <td>...</td>\n",
       "      <td>True</td>\n",
       "      <td>True</td>\n",
       "      <td>0</td>\n",
       "      <td>20191216</td>\n",
       "      <td>$50.30</td>\n",
       "      <td>True</td>\n",
       "      <td>Month-to-Month</td>\n",
       "      <td>One Line</td>\n",
       "      <td>DSL</td>\n",
       "      <td>Phone+Internet</td>\n",
       "    </tr>\n",
       "    <tr>\n",
       "      <th>3</th>\n",
       "      <td>9992-RRAMN</td>\n",
       "      <td>Male</td>\n",
       "      <td>0</td>\n",
       "      <td>Yes</td>\n",
       "      <td>No</td>\n",
       "      <td>2</td>\n",
       "      <td>2</td>\n",
       "      <td>0</td>\n",
       "      <td>Electronic check</td>\n",
       "      <td>$85.10</td>\n",
       "      <td>...</td>\n",
       "      <td>True</td>\n",
       "      <td>True</td>\n",
       "      <td>1</td>\n",
       "      <td>20180412</td>\n",
       "      <td>$85.10</td>\n",
       "      <td>True</td>\n",
       "      <td>Month-to-Month</td>\n",
       "      <td>Two or More Lines</td>\n",
       "      <td>Fiber Optic</td>\n",
       "      <td>Phone+Internet</td>\n",
       "    </tr>\n",
       "    <tr>\n",
       "      <th>4</th>\n",
       "      <td>9987-LUTYD</td>\n",
       "      <td>Female</td>\n",
       "      <td>0</td>\n",
       "      <td>No</td>\n",
       "      <td>No</td>\n",
       "      <td>1</td>\n",
       "      <td>1</td>\n",
       "      <td>1</td>\n",
       "      <td>Mailed check</td>\n",
       "      <td>$55.15</td>\n",
       "      <td>...</td>\n",
       "      <td>True</td>\n",
       "      <td>True</td>\n",
       "      <td>0</td>\n",
       "      <td>20181228</td>\n",
       "      <td>$55.15</td>\n",
       "      <td>True</td>\n",
       "      <td>1 Year</td>\n",
       "      <td>One Line</td>\n",
       "      <td>DSL</td>\n",
       "      <td>Phone+Internet</td>\n",
       "    </tr>\n",
       "  </tbody>\n",
       "</table>\n",
       "<p>5 rows × 26 columns</p>\n",
       "</div>"
      ],
      "text/plain": [
       "  customer_id  gender  senior partner dependents  phone_service  \\\n",
       "0  9995-HOTOH    Male       0     Yes        Yes              0   \n",
       "1  9993-LHIEB    Male       0     Yes        Yes              1   \n",
       "2  9992-UJOEL    Male       0      No         No              1   \n",
       "3  9992-RRAMN    Male       0     Yes         No              2   \n",
       "4  9987-LUTYD  Female       0      No         No              1   \n",
       "\n",
       "   internet_service  contract_type      payment_type monthly_charges  ...  \\\n",
       "0                 1              2  Electronic check         $59.00   ...   \n",
       "1                 1              2      Mailed check         $67.85   ...   \n",
       "2                 1              0      Mailed check         $50.30   ...   \n",
       "3                 2              0  Electronic check         $85.10   ...   \n",
       "4                 1              1      Mailed check         $55.15   ...   \n",
       "\n",
       "  has_internet has_phone_and_internet  partner_dependents  \\\n",
       "0         True                  False                   3   \n",
       "1         True                   True                   3   \n",
       "2         True                   True                   0   \n",
       "3         True                   True                   1   \n",
       "4         True                   True                   0   \n",
       "\n",
       "   Excel functions -> Exercise3  average_monthly_charges  \\\n",
       "0                      20141117                  $59.00    \n",
       "1                      20140607                  $67.85    \n",
       "2                      20191216                  $50.30    \n",
       "3                      20180412                  $85.10    \n",
       "4                      20181228                  $55.15    \n",
       "\n",
       "   Excel functions -> Exercise4  contract_type.1         phone_type  \\\n",
       "0                          True           2 Year   No Phone Service   \n",
       "1                          True           2 Year           One Line   \n",
       "2                          True   Month-to-Month           One Line   \n",
       "3                          True   Month-to-Month  Two or More Lines   \n",
       "4                          True           1 Year           One Line   \n",
       "\n",
       "   internet_type    service_type  \n",
       "0            DSL   Internet Only  \n",
       "1            DSL  Phone+Internet  \n",
       "2            DSL  Phone+Internet  \n",
       "3    Fiber Optic  Phone+Internet  \n",
       "4            DSL  Phone+Internet  \n",
       "\n",
       "[5 rows x 26 columns]"
      ]
     },
     "execution_count": 15,
     "metadata": {},
     "output_type": "execute_result"
    }
   ],
   "source": [
    "df.head()"
   ]
  },
  {
   "cell_type": "code",
   "execution_count": 16,
   "metadata": {},
   "outputs": [
    {
     "name": "stdout",
     "output_type": "stream",
     "text": [
      "<class 'pandas.core.frame.DataFrame'>\n",
      "RangeIndex: 7043 entries, 0 to 7042\n",
      "Data columns (total 26 columns):\n",
      " #   Column                        Non-Null Count  Dtype \n",
      "---  ------                        --------------  ----- \n",
      " 0   customer_id                   7043 non-null   object\n",
      " 1   gender                        7043 non-null   object\n",
      " 2   senior                        7043 non-null   int64 \n",
      " 3   partner                       7043 non-null   object\n",
      " 4   dependents                    7043 non-null   object\n",
      " 5   phone_service                 7043 non-null   int64 \n",
      " 6   internet_service              7043 non-null   int64 \n",
      " 7   contract_type                 7043 non-null   int64 \n",
      " 8   payment_type                  7043 non-null   object\n",
      " 9   monthly_charges               7043 non-null   object\n",
      " 10  total_charges                 7032 non-null   object\n",
      " 11  churn                         7043 non-null   object\n",
      " 12  tenure                        7043 non-null   int64 \n",
      " 13  is_female                     7043 non-null   bool  \n",
      " 14  has_churned                   7043 non-null   bool  \n",
      " 15  has_phone                     7043 non-null   bool  \n",
      " 16  has_internet                  7043 non-null   bool  \n",
      " 17  has_phone_and_internet        7043 non-null   bool  \n",
      " 18  partner_dependents            7043 non-null   int64 \n",
      " 19  Excel functions -> Exercise3  7043 non-null   int64 \n",
      " 20  average_monthly_charges       7043 non-null   object\n",
      " 21  Excel functions -> Exercise4  7043 non-null   bool  \n",
      " 22  contract_type.1               7043 non-null   object\n",
      " 23  phone_type                    7043 non-null   object\n",
      " 24  internet_type                 7043 non-null   object\n",
      " 25  service_type                  7043 non-null   object\n",
      "dtypes: bool(6), int64(7), object(13)\n",
      "memory usage: 1.1+ MB\n"
     ]
    }
   ],
   "source": [
    "df.info()"
   ]
  },
  {
   "cell_type": "code",
   "execution_count": 17,
   "metadata": {},
   "outputs": [
    {
     "data": {
      "text/html": [
       "<div>\n",
       "<style scoped>\n",
       "    .dataframe tbody tr th:only-of-type {\n",
       "        vertical-align: middle;\n",
       "    }\n",
       "\n",
       "    .dataframe tbody tr th {\n",
       "        vertical-align: top;\n",
       "    }\n",
       "\n",
       "    .dataframe thead th {\n",
       "        text-align: right;\n",
       "    }\n",
       "</style>\n",
       "<table border=\"1\" class=\"dataframe\">\n",
       "  <thead>\n",
       "    <tr style=\"text-align: right;\">\n",
       "      <th></th>\n",
       "      <th>senior</th>\n",
       "      <th>phone_service</th>\n",
       "      <th>internet_service</th>\n",
       "      <th>contract_type</th>\n",
       "      <th>tenure</th>\n",
       "      <th>partner_dependents</th>\n",
       "      <th>Excel functions -&gt; Exercise3</th>\n",
       "    </tr>\n",
       "  </thead>\n",
       "  <tbody>\n",
       "    <tr>\n",
       "      <th>count</th>\n",
       "      <td>7043.000000</td>\n",
       "      <td>7043.000000</td>\n",
       "      <td>7043.000000</td>\n",
       "      <td>7043.000000</td>\n",
       "      <td>7043.000000</td>\n",
       "      <td>7043.000000</td>\n",
       "      <td>7.043000e+03</td>\n",
       "    </tr>\n",
       "    <tr>\n",
       "      <th>mean</th>\n",
       "      <td>0.162147</td>\n",
       "      <td>1.325004</td>\n",
       "      <td>1.222916</td>\n",
       "      <td>0.690473</td>\n",
       "      <td>32.368309</td>\n",
       "      <td>1.082209</td>\n",
       "      <td>2.017013e+07</td>\n",
       "    </tr>\n",
       "    <tr>\n",
       "      <th>std</th>\n",
       "      <td>0.368612</td>\n",
       "      <td>0.642730</td>\n",
       "      <td>0.778877</td>\n",
       "      <td>0.833755</td>\n",
       "      <td>24.597021</td>\n",
       "      <td>1.226274</td>\n",
       "      <td>2.057460e+04</td>\n",
       "    </tr>\n",
       "    <tr>\n",
       "      <th>min</th>\n",
       "      <td>0.000000</td>\n",
       "      <td>0.000000</td>\n",
       "      <td>0.000000</td>\n",
       "      <td>0.000000</td>\n",
       "      <td>0.000000</td>\n",
       "      <td>0.000000</td>\n",
       "      <td>2.013070e+07</td>\n",
       "    </tr>\n",
       "    <tr>\n",
       "      <th>25%</th>\n",
       "      <td>0.000000</td>\n",
       "      <td>1.000000</td>\n",
       "      <td>1.000000</td>\n",
       "      <td>0.000000</td>\n",
       "      <td>9.000000</td>\n",
       "      <td>0.000000</td>\n",
       "      <td>2.015071e+07</td>\n",
       "    </tr>\n",
       "    <tr>\n",
       "      <th>50%</th>\n",
       "      <td>0.000000</td>\n",
       "      <td>1.000000</td>\n",
       "      <td>1.000000</td>\n",
       "      <td>0.000000</td>\n",
       "      <td>29.000000</td>\n",
       "      <td>1.000000</td>\n",
       "      <td>2.017092e+07</td>\n",
       "    </tr>\n",
       "    <tr>\n",
       "      <th>75%</th>\n",
       "      <td>0.000000</td>\n",
       "      <td>2.000000</td>\n",
       "      <td>2.000000</td>\n",
       "      <td>1.000000</td>\n",
       "      <td>55.000000</td>\n",
       "      <td>2.000000</td>\n",
       "      <td>2.019052e+07</td>\n",
       "    </tr>\n",
       "    <tr>\n",
       "      <th>max</th>\n",
       "      <td>1.000000</td>\n",
       "      <td>2.000000</td>\n",
       "      <td>2.000000</td>\n",
       "      <td>2.000000</td>\n",
       "      <td>79.000000</td>\n",
       "      <td>3.000000</td>\n",
       "      <td>2.020021e+07</td>\n",
       "    </tr>\n",
       "  </tbody>\n",
       "</table>\n",
       "</div>"
      ],
      "text/plain": [
       "            senior  phone_service  internet_service  contract_type  \\\n",
       "count  7043.000000    7043.000000       7043.000000    7043.000000   \n",
       "mean      0.162147       1.325004          1.222916       0.690473   \n",
       "std       0.368612       0.642730          0.778877       0.833755   \n",
       "min       0.000000       0.000000          0.000000       0.000000   \n",
       "25%       0.000000       1.000000          1.000000       0.000000   \n",
       "50%       0.000000       1.000000          1.000000       0.000000   \n",
       "75%       0.000000       2.000000          2.000000       1.000000   \n",
       "max       1.000000       2.000000          2.000000       2.000000   \n",
       "\n",
       "            tenure  partner_dependents  Excel functions -> Exercise3  \n",
       "count  7043.000000         7043.000000                  7.043000e+03  \n",
       "mean     32.368309            1.082209                  2.017013e+07  \n",
       "std      24.597021            1.226274                  2.057460e+04  \n",
       "min       0.000000            0.000000                  2.013070e+07  \n",
       "25%       9.000000            0.000000                  2.015071e+07  \n",
       "50%      29.000000            1.000000                  2.017092e+07  \n",
       "75%      55.000000            2.000000                  2.019052e+07  \n",
       "max      79.000000            3.000000                  2.020021e+07  "
      ]
     },
     "execution_count": 17,
     "metadata": {},
     "output_type": "execute_result"
    }
   ],
   "source": [
    "df.describe()"
   ]
  },
  {
   "cell_type": "code",
   "execution_count": null,
   "metadata": {},
   "outputs": [],
   "source": []
  },
  {
   "cell_type": "code",
   "execution_count": null,
   "metadata": {},
   "outputs": [],
   "source": []
  },
  {
   "cell_type": "code",
   "execution_count": null,
   "metadata": {},
   "outputs": [],
   "source": []
  },
  {
   "cell_type": "markdown",
   "metadata": {},
   "source": [
    "# 3. Preparation"
   ]
  },
  {
   "cell_type": "markdown",
   "metadata": {},
   "source": [
    "Explore missing values and document takeaways/action plans for handling them. \n",
    "- Should you remove the observations with a missing value for that variable? (remove row) \n",
    "- Should you remove the variable altogether? (remove column) \n",
    "- Is 'missing' equivalent to 0 (or some other constant value) in the specific case of this variable?\n",
    "- Should you replace the missing values with a value it is most likely to represent, like mean/median/mode? \n",
    "- Document your takeaways.\n",
    "- Explore data types and adapt types or data values as needed to have numeric represenation of each attribute. \n",
    "- Run prepare.py. "
   ]
  },
  {
   "cell_type": "code",
   "execution_count": 18,
   "metadata": {},
   "outputs": [],
   "source": [
    "df = prepare.telco_data_prep()"
   ]
  },
  {
   "cell_type": "markdown",
   "metadata": {},
   "source": [
    "# 4. Exploration "
   ]
  },
  {
   "cell_type": "markdown",
   "metadata": {},
   "source": [
    "Answer the key questions, your hypotheses, and figure out the drivers of churn. You are required to run at least 2 statistical tests in your data exploration. Make sure you document your hypotheses and set your alpha before running the tests and document your findings well.\n",
    "\n",
    "- If a group is identified by tenure, is there a cohort or cohorts who have a higher rate of churn than other cohorts?\n",
    "Plot the rate of churn on a line chart where x is the tenure and y is the rate of churn (customers churned/total customers)\n",
    "\n",
    "Are there features that indicate a higher propensity to churn? \n",
    "For Example: type of internet service, type of phone service, online security and backup, senior citizens, paying more than x% of customers with the same services, etc.\n",
    "- Is there a price threshold for specific services where the likelihood of churn increases once price for those services goes past that point? If so, what is that point for what service(s)?\n",
    "- If we looked at churn rate for month-to-month customers after the 12th month and that of 1-year contract customers after the 12th month, are those rates comparable?\n",
    "- Controlling for services (phone_id, internet_service_type_id, online_security_backup, device_protection, tech_support, and contract_type_id), is the mean monthly_charges of those who have churned significantly different from that of those who have not churned? (Use a t-test to answer this.)\n",
    "- How much of monthly_charges can be explained by internet_service_type?\n",
    "\n",
    "Hint: correlation test - State your hypotheses and your conclusion clearly.\n",
    "- How much of monthly_charges can be explained by internet_service_type +phone_service_type (0, 1, or multiple lines). State your hypotheses and your conclusion clearly.\n",
    "- Create visualizations exploring the interactions of variables (independent with independent and independent with dependent). The goal is to identify features that are related to churn, identify any data integrity issues, understand 'how the data works'. \n",
    "\n",
    "For example: We may find that all who have online services also have device protection. In that case, we don't need both of those. \n",
    "The visualizations done in your analysis for the questions above work toward answering the target question below.\n",
    "- What can you say about each variable's relationship to churn, based on your initial exploration? If there appears to be some sort of interaction or correlation, assume there is no causal relationship and brainstorm (and document) ideas on reasons there could be correlation.\n",
    "\n",
    "Summarize your conclusions, provide clear answers to the specific questions, and summarize any takeaways/action plan from the work above.\n"
   ]
  },
  {
   "cell_type": "markdown",
   "metadata": {},
   "source": [
    "# 5. Modeling"
   ]
  },
  {
   "cell_type": "markdown",
   "metadata": {},
   "source": [
    "You are required to establish a baseline accuracy to determine if having a model is better than no model and train and compare at least 3 different models. Document these steps well.\n",
    "\n",
    "- Feature Selection: Are there any variables that seem to provide limited to no additional information? If so, remove them.\n",
    "- Train (fit, transform, evaluate) multiple different models, varying the model type and hyperparameters.\n",
    "- Compare evaluation metrics across all the models, and select the ones you want to test using your validate dataframe.\n",
    "- Based on how your evaluation of your models using the train and validate datasets, choose your best model that you will try with your test data.\n",
    "- Test the final model (transform, evaluate) on your out-of-sample data (the testing data set). Summarize the performance. Interpret your results."
   ]
  },
  {
   "cell_type": "markdown",
   "metadata": {},
   "source": [
    "# 6. Delivery"
   ]
  },
  {
   "cell_type": "markdown",
   "metadata": {},
   "source": [
    "Draw Conclusions\n",
    "- Summarize your findings"
   ]
  },
  {
   "cell_type": "code",
   "execution_count": null,
   "metadata": {},
   "outputs": [],
   "source": []
  },
  {
   "cell_type": "markdown",
   "metadata": {},
   "source": [
    "- Key takeaways and next steps"
   ]
  },
  {
   "cell_type": "code",
   "execution_count": null,
   "metadata": {},
   "outputs": [],
   "source": []
  }
 ],
 "metadata": {
  "kernelspec": {
   "display_name": "Python 3",
   "language": "python",
   "name": "python3"
  },
  "language_info": {
   "codemirror_mode": {
    "name": "ipython",
    "version": 3
   },
   "file_extension": ".py",
   "mimetype": "text/x-python",
   "name": "python",
   "nbconvert_exporter": "python",
   "pygments_lexer": "ipython3",
   "version": "3.7.6"
  }
 },
 "nbformat": 4,
 "nbformat_minor": 4
}
